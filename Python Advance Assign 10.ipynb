{
 "cells": [
  {
   "cell_type": "markdown",
   "id": "0a951aa9",
   "metadata": {},
   "source": [
    "# Q1. What is the difference between __getattr__ and __getattribute__?"
   ]
  },
  {
   "cell_type": "markdown",
   "id": "91b2a0cd",
   "metadata": {},
   "source": [
    "__getattribute__ is used to retrieve an attribute from an instance. It captures every attempt to access an instance attribute by trying n number of reccursions irrespective of the fact weather it exists for the case or not.\n",
    "\n",
    "__getattr__ is executed as the last resource when attribute is not found in an object. You can choose to return a default value or to raise AttributeError."
   ]
  },
  {
   "cell_type": "markdown",
   "id": "cef7a805",
   "metadata": {},
   "source": [
    "# Q2. What is the difference between properties and descriptors?"
   ]
  },
  {
   "cell_type": "markdown",
   "id": "8c126aed",
   "metadata": {},
   "source": [
    "Properties are a high-level application that lets one hook into an object's attributes, properties are basically descriptors that are already provided in the standard library. It makes usage of getter and setters much easier in Object-Oriented Programming.\n",
    " \n",
    "Descriptors are a low-level mechanism of same thing that lets one hook into an object's attributes being accessed. descriptors are alreaady in-built in properties."
   ]
  },
  {
   "cell_type": "markdown",
   "id": "9bef34a5",
   "metadata": {},
   "source": [
    "# Q3. What are the key differences in functionality between __getattr__ and __getattribute__, as well as properties and descriptors?"
   ]
  },
  {
   "cell_type": "markdown",
   "id": "e1ff9ae5",
   "metadata": {},
   "source": [
    "A key difference between __getattr__ and __getattribute__ is that __getattr__ is only invoked if the attribute wasn't found the usual ways. It's good for implementing for missing attributes\n",
    "\n",
    "In properties and descriptors, main difference in their functionality is, properties works on whole even descriptors are in-built in properties itself, while descriptors works on low-level."
   ]
  },
  {
   "cell_type": "code",
   "execution_count": null,
   "id": "4008af3a",
   "metadata": {},
   "outputs": [],
   "source": []
  }
 ],
 "metadata": {
  "kernelspec": {
   "display_name": "Python 3 (ipykernel)",
   "language": "python",
   "name": "python3"
  },
  "language_info": {
   "codemirror_mode": {
    "name": "ipython",
    "version": 3
   },
   "file_extension": ".py",
   "mimetype": "text/x-python",
   "name": "python",
   "nbconvert_exporter": "python",
   "pygments_lexer": "ipython3",
   "version": "3.9.12"
  }
 },
 "nbformat": 4,
 "nbformat_minor": 5
}
